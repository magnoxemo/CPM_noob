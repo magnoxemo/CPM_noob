{
 "cells": [
  {
   "cell_type": "code",
   "execution_count": 76,
   "metadata": {},
   "outputs": [
    {
     "data": {
      "text/plain": [
       "array([[4.79403374e-01, 1.17719203e-02, 1.17719203e-02, ...,\n",
       "        2.15488932e-09, 1.97977973e-09, 1.81896726e-09],\n",
       "       [1.17719203e-02, 4.79403374e-01, 1.17719203e-02, ...,\n",
       "        2.25354292e-09, 2.07037566e-09, 1.90216718e-09],\n",
       "       [1.17719203e-02, 1.17719203e-02, 4.79403374e-01, ...,\n",
       "        2.35673782e-09, 2.16513985e-09, 1.98919313e-09],\n",
       "       ...,\n",
       "       [1.78571777e-06, 1.78571777e-06, 1.78571777e-06, ...,\n",
       "        5.38507663e-01, 1.10138346e-02, 1.10138346e-02],\n",
       "       [1.71131869e-06, 1.71131869e-06, 1.71131869e-06, ...,\n",
       "        1.10138346e-02, 5.38507663e-01, 1.10138346e-02],\n",
       "       [1.64006841e-06, 1.64006841e-06, 1.64006841e-06, ...,\n",
       "        1.10138346e-02, 1.10138346e-02, 5.38507663e-01]])"
      ]
     },
     "execution_count": 76,
     "metadata": {},
     "output_type": "execute_result"
    }
   ],
   "source": [
    "import numpy as np\n",
    "from scipy.special import expi\n",
    "dx=.1\n",
    "\n",
    "a=0\n",
    "b=4\n",
    "c=10\n",
    "d=15\n",
    "e=20\n",
    "\n",
    "x=np.arange(0,e,dx)\n",
    "\n",
    "sigma_t_fuel=0.415\n",
    "sigma_t_reflector=0.371\n",
    "sigma_t_absorber=0.371\n",
    "\n",
    "\n",
    "gradx=np.gradient(x)\n",
    "\n",
    "\n",
    "def tau(i,j):\n",
    "\n",
    "    s=0\n",
    "    if i<j:\n",
    "        if (x[i]>=a and x[i]<=b) or (x[i]>=c and x[i]<=d):\n",
    "            #then it's in fuel region\n",
    "            s=sigma_t_fuel*dx/2\n",
    "        if (x[i]>b and x[i]<c) or (x[i]>d and x[i]<=e):\n",
    "            s=sigma_t_reflector*dx/2\n",
    "\n",
    "        k=i+1\n",
    "        while k<j-1:\n",
    "            if (x[k]>=a and x[i]<=b) or (x[k]>=c and x[k]<=d):\n",
    "                 #then it's in fuel region\n",
    "                s=s+sigma_t_fuel*dx\n",
    "            if (x[k]>b and x[k]<c) or (x[k]>d and x[k]<=e):\n",
    "                s=s+sigma_t_reflector*dx           \n",
    "            k=k+1\n",
    "\n",
    "        if (x[j]>=a and x[j]<=b) or (x[j]>=c and x[j]<=d):\n",
    "            #then it's in fuel region\n",
    "            s=s+sigma_t_fuel*dx/2\n",
    "        if (x[j]>b and x[j]<c) or (x[j]>d and x[j]<=e):\n",
    "            s=s+sigma_t_reflector*dx/2\n",
    "\n",
    "\n",
    "    elif j<i:\n",
    "\n",
    "        if (x[j]>=a and x[j]<=b) or (x[j]>=c and x[j]<=d):\n",
    "            #then it's in fuel region\n",
    "            s=sigma_t_fuel*dx/2\n",
    "        if (x[j]>b and x[j]<c) or (x[j]>d and x[j]<=e):\n",
    "            s=sigma_t_reflector*dx/2\n",
    "\n",
    "        \n",
    "\n",
    "        k=j+1\n",
    "        while k<i-1:\n",
    "            if (x[k]>=a and x[i]<=b) or (x[k]>=c and x[k]<=d):\n",
    "                 #then it's in fuel region\n",
    "                s=s+sigma_t_fuel*dx\n",
    "            if (x[k]>b and x[k]<c) or (x[k]>d and x[k]<=e):\n",
    "                s=s+sigma_t_reflector*dx           \n",
    "            k=k+1\n",
    "\n",
    "\n",
    "        if (x[i]>=a and x[i]<=b) or (x[i]>=c and x[i]<=d):\n",
    "            #then it's in fuel region\n",
    "            s=s+sigma_t_fuel*dx/2\n",
    "        if (x[i]>b and x[i]<c) or (x[i]>d and x[i]<=e):\n",
    "            s=s+sigma_t_reflector*dx/2\n",
    "\n",
    "        \n",
    "    elif i==j:\n",
    "\n",
    "        if (x[i]>=a and x[i]<=b) or (x[i]>=c and x[i]<=d):\n",
    "            #then it's in fuel region\n",
    "            s=sigma_t_fuel*dx/2\n",
    "        if (x[i]>b and x[i]<c) or (x[i]>d and x[i]<=e):\n",
    "            s=sigma_t_reflector*dx/2\n",
    "\n",
    "    return s \n",
    "\n",
    "  \n",
    "def E(x):\n",
    "    dx=0.001\n",
    "    meu=np.arange(0.0001,1,dx)\n",
    "    f=meu*np.exp(-x/meu)\n",
    "    val=np.trapz(f,meu,dx=dx)\n",
    "    #val=np.exp(-x)/3 - x*np.exp(-x)/6 +x**2*np.exp(-x)/6 +x**3*expi(-x)\n",
    "    return val\n",
    "matrix=np.zeros((len(x),len(x)))\n",
    "\n",
    "for i in range(len(x)):\n",
    "    val=0\n",
    "    \n",
    "    for j in range(len(x)):\n",
    "        if i!=j:\n",
    "            if (x[i]>=a and x[i]<=b) or (x[i]>=c and x[i]<=d):\n",
    "            #then it's in fuel region\n",
    "                val=(E(tau(i,j))-E((tau(i,j)+tau(i,i)))-E((tau(i,j)+tau(j,j)))+E((tau(i,j)+tau(i,i)+tau(j,j))))/(2*sigma_t_fuel*gradx[i])\n",
    "            if (x[i]>b and x[i]<c) or (x[i]>d and x[i]<=e):\n",
    "                val=(E(tau(i,j))-E((tau(i,j)+tau(i,i)))-E((tau(i,j)+tau(j,j)))+E((tau(i,j)+tau(i,i)+tau(j,j))))/(2*sigma_t_reflector*gradx[i])\n",
    "            \n",
    "\n",
    "        if i==j:\n",
    "            if (x[i]>=a and x[i]<=b) or (x[i]>=c and x[i]<=d):\n",
    "                val=(sigma_t_fuel*gradx[i])*((1-(1-2*E(tau(i,i))))/(2*sigma_t_fuel*gradx[i]))\n",
    "            if (x[i]>b and x[i]<c) or (x[i]>d and x[i]<=e):\n",
    "                val=(sigma_t_fuel*gradx[i])*((1-(1-2*E(tau(i,i))))/(2*sigma_t_reflector*gradx[i]))\n",
    "\n",
    "        matrix[i][j]=val\n",
    "matrix"
   ]
  },
  {
   "cell_type": "code",
   "execution_count": 86,
   "metadata": {},
   "outputs": [],
   "source": [
    "sigma_s=0.334\n",
    "sigma_s_r=0.334\n",
    "neu_sigma_f=.178"
   ]
  },
  {
   "cell_type": "code",
   "execution_count": 87,
   "metadata": {},
   "outputs": [],
   "source": [
    "m,n=np.shape(matrix)\n",
    "scatteering_matrix=np.zeros((m,n))\n",
    "neu_sigma_f_matrix=np.zeros((m,n))\n",
    "\n",
    "for i in range(m):     \n",
    "    if x[i]>=a and x[i]<=b:\n",
    "        scatteering_matrix[i][i]=sigma_s\n",
    "        neu_sigma_f_matrix[i][i]=neu_sigma_f\n",
    "    if x[i]>b and x[i]<c:\n",
    "        scatteering_matrix[i][i]=sigma_s_r\n",
    "        \n",
    "\n",
    "    if x[i]>=c and x[i]<=d:\n",
    "        scatteering_matrix[i][i]=sigma_s\n",
    "        neu_sigma_f_matrix[i][i]=neu_sigma_f\n",
    "    if x[i]>d and x[i]<=e:\n",
    "        scatteering_matrix[i][i]=sigma_s_r\n",
    "        \n"
   ]
  },
  {
   "cell_type": "code",
   "execution_count": 105,
   "metadata": {},
   "outputs": [],
   "source": [
    "phi0=np.ones((m,1))\n",
    "source=np.ones_like(phi0)*1\n",
    "k0=1\n",
    "k=[]\n",
    "for i in range(300):\n",
    "    k.append(k0)\n",
    "    phi1=np.matmul(matrix,np.matmul(scatteering_matrix,phi0)+np.matmul(neu_sigma_f_matrix,phi0)/(k0)+source)\n",
    "    k0=k0*np.sum(np.matmul(neu_sigma_f_matrix,phi1))/np.sum(np.matmul(neu_sigma_f_matrix,phi0))\n",
    "    phi0=phi1.copy()"
   ]
  },
  {
   "cell_type": "code",
   "execution_count": 106,
   "metadata": {},
   "outputs": [
    {
     "data": {
      "text/plain": [
       "[<matplotlib.lines.Line2D at 0x7f2bf5f10c10>]"
      ]
     },
     "execution_count": 106,
     "metadata": {},
     "output_type": "execute_result"
    },
    {
     "data": {
      "image/png": "[encoded data removed]",
      "text/plain": [
       "<Figure size 640x480 with 1 Axes>"
      ]
     },
     "metadata": {},
     "output_type": "display_data"
    }
   ],
   "source": [
    "import matplotlib.pyplot as plt\n",
    "plt.plot(x,phi1)"
   ]
  },
  {
   "cell_type": "code",
   "execution_count": 107,
   "metadata": {},
   "outputs": [
    {
     "data": {
      "text/plain": [
       "1.052621485173176"
      ]
     },
     "execution_count": 107,
     "metadata": {},
     "output_type": "execute_result"
    }
   ],
   "source": [
    "k0"
   ]
  },
  {
   "cell_type": "code",
   "execution_count": null,
   "metadata": {},
   "outputs": [],
   "source": []
  },
  {
   "cell_type": "code",
   "execution_count": null,
   "metadata": {},
   "outputs": [],
   "source": []
  }
 ],
 "metadata": {
  "kernelspec": {
   "display_name": "Python 3",
   "language": "python",
   "name": "python3"
  },
  "language_info": {
   "codemirror_mode": {
    "name": "ipython",
    "version": 3
   },
   "file_extension": ".py",
   "mimetype": "text/x-python",
   "name": "python",
   "nbconvert_exporter": "python",
   "pygments_lexer": "ipython3",
   "version": "3.10.12"
  }
 },
 "nbformat": 4,
 "nbformat_minor": 2
}
